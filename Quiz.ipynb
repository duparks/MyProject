{
 "cells": [
  {
   "cell_type": "code",
   "execution_count": 49,
   "metadata": {},
   "outputs": [
    {
     "name": "stdout",
     "output_type": "stream",
     "text": [
      "주식자산총계: 5,940,000원\n"
     ]
    }
   ],
   "source": [
    "amt_a = 263000\n",
    "amt_b = 6800\n",
    "qty_a = 20\n",
    "qty_b = 100\n",
    "\n",
    "amt_sum = ((amt_a * qty_a) + (amt_b * qty_b))\n",
    "amt_out = format(amt_sum, \",\")\n",
    "\n",
    "print (\"주식자산총계: %s원\" % (amt_out))"
   ]
  },
  {
   "cell_type": "code",
   "execution_count": 50,
   "metadata": {},
   "outputs": [
    {
     "name": "stdout",
     "output_type": "stream",
     "text": [
      "수익률(%): 7.142857\n"
     ]
    }
   ],
   "source": [
    "buy_amt = 42000\n",
    "cur_amt = 45000\n",
    "\n",
    "bef_amt = (cur_amt - buy_amt)\n",
    "bef_pst = bef_amt / buy_amt\n",
    "bef_pst *= 100\n",
    "\n",
    "print (\"수익률(%%): %f\" % (bef_pst))"
   ]
  },
  {
   "cell_type": "code",
   "execution_count": 46,
   "metadata": {},
   "outputs": [
    {
     "name": "stdout",
     "output_type": "stream",
     "text": [
      "Hello, Python\n",
      "Hello, Python\n",
      "Hello, Python\n",
      "Hello, Python\n",
      "Hello, Python\n"
     ]
    }
   ],
   "source": [
    "str_a = \"Hello, Python\"\n",
    "\n",
    "for _ in range(5):\n",
    "    print(str_a)"
   ]
  },
  {
   "cell_type": "code",
   "execution_count": 57,
   "metadata": {},
   "outputs": [
    {
     "name": "stdout",
     "output_type": "stream",
     "text": [
      "Hello, Python\n"
     ]
    }
   ],
   "source": [
    "a = \"Hello, World\"\n",
    "\n",
    "a = a.replace(\"World\",\"Python\")\n",
    "print(a)"
   ]
  },
  {
   "cell_type": "code",
   "execution_count": 61,
   "metadata": {},
   "outputs": [
    {
     "name": "stdout",
     "output_type": "stream",
     "text": [
      "최고가 =  175.5\n",
      "최저가 =  156.41\n",
      "평균가 =  168.71699999999998\n"
     ]
    }
   ],
   "source": [
    "AAPL = [156.41, 162.71, 164.34, 167.37, 172.99, 172.43, 171.85, 171.07, 172.50, 175.50]\n",
    "\n",
    "print('최고가 = ', max(AAPL))\n",
    "print('최저가 = ', min(AAPL))\n",
    "print('평균가 = ', sum(AAPL) / len(AAPL))"
   ]
  },
  {
   "cell_type": "code",
   "execution_count": 49,
   "metadata": {},
   "outputs": [
    {
     "name": "stdout",
     "output_type": "stream",
     "text": [
      "<일일 수익율(%)>\n",
      " 1 일: +0.00\n",
      " 2 일: +4.03\n",
      " 3 일: +1.00\n",
      " 4 일: +1.84\n",
      " 5 일: +3.36\n",
      " 6 일: -0.32\n",
      " 7 일: -0.34\n",
      " 8 일: -0.45\n",
      " 9 일: +0.84\n",
      "10 일: +1.74\n",
      "\n",
      "<평균 수익율(%)>\n",
      "+1.30\n"
     ]
    }
   ],
   "source": [
    "AAPL = [156.41, 162.71, 164.34, 167.37, 172.99, 172.43, 171.85, 171.07, 172.50, 175.50]\n",
    "temp = 0\n",
    "accu = 0\n",
    "\n",
    "for idx, i in enumerate(AAPL):\n",
    "    if idx == 0:\n",
    "        print(\"<일일 수익율(%)>\")\n",
    "        print(\"%2d 일: %+.2f\" % (idx + 1, 0))\n",
    "    else:\n",
    "        temp = AAPL[idx - 1]\n",
    "        temp = (i - temp) / temp * 100\n",
    "        accu += temp\n",
    "        print(\"%2d 일: %+.2f\" % (idx + 1, temp))\n",
    "\n",
    "temp = accu / (len(AAPL) - 1)\n",
    "print(\"\\n<평균 수익율(%)>\")\n",
    "print(\"%+.2f\" % (temp))"
   ]
  },
  {
   "cell_type": "code",
   "execution_count": 51,
   "metadata": {},
   "outputs": [
    {
     "name": "stdout",
     "output_type": "stream",
     "text": [
      "55\n"
     ]
    }
   ],
   "source": [
    "def range_sum(a = None, b = None):\n",
    "    \"\"\"\n",
    "    두 개의 정수값 a, b를 전달 받아 a부터 b까지 합산한 결과를 반환하는 함수\n",
    "    \"\"\"\n",
    "    \n",
    "    if a is None or b is None:\n",
    "        return \"첫번째 또는 두번째 값이 없습니다!\"\n",
    "    \n",
    "    if type(a) != int:\n",
    "        return \"첫번째 값이 정수가 아닙니다!\"\n",
    "    \n",
    "    if type(b) != int:\n",
    "        return \"두번째 값이 정수가 아닙니다!\"\n",
    "    \n",
    "    if a > b:\n",
    "        return \"첫번째 값이 두번째 값 보다 큽니다!\"\n",
    "    \n",
    "    total = 0\n",
    "    \n",
    "    for x in range(a, b + 1):\n",
    "        total += x\n",
    "\n",
    "    return str(total)\n",
    "\n",
    "s = range_sum(1, 10)\n",
    "print(s)"
   ]
  },
  {
   "cell_type": "code",
   "execution_count": 52,
   "metadata": {},
   "outputs": [
    {
     "name": "stdout",
     "output_type": "stream",
     "text": [
      "[1, 4, 9, 16, 25, 36, 49, 64, 81, 100]\n"
     ]
    }
   ],
   "source": [
    "file_list = [i**2 for i in range(1, 10 + 1)]\n",
    "file_name = \"out.txt\"\n",
    "\n",
    "with open(file_name, \"wt\") as f:\n",
    "    f.write(str(file_list))\n",
    "\n",
    "with open(file_name, \"rt\") as f:\n",
    "    file_contents = f.read()\n",
    "    \n",
    "print(file_contents)"
   ]
  }
 ],
 "metadata": {
  "kernelspec": {
   "display_name": "Python 3",
   "language": "python",
   "name": "python3"
  },
  "language_info": {
   "codemirror_mode": {
    "name": "ipython",
    "version": 3
   },
   "file_extension": ".py",
   "mimetype": "text/x-python",
   "name": "python",
   "nbconvert_exporter": "python",
   "pygments_lexer": "ipython3",
   "version": "3.6.4"
  }
 },
 "nbformat": 4,
 "nbformat_minor": 2
}
